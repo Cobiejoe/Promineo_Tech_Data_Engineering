{
 "cells": [
  {
   "cell_type": "markdown",
   "id": "2d45dc46-c241-46af-b8a0-b1229cb5d0f9",
   "metadata": {},
   "source": [
    "### User Story 1:\n",
    "As a data engineer, I need an integrated development environment so I can write and organize my Python code.\n",
    "    \n",
    "### User Story 2:\n",
    "As a data engineer, I need basic programming skills so I will be able to write programs in Python."
   ]
  },
  {
   "cell_type": "markdown",
   "id": "ef64de90-84e3-421a-b192-1a17946d8c9c",
   "metadata": {},
   "source": [
    "#### Action Items:\n",
    "\n",
    "- Correctly configure Jupyter IDE with a unique environment and kernel\n",
    "- Develop understanding of Python essentials by completing challenge questions below\n",
    "- Push finished notebook file to GitHub\n"
   ]
  },
  {
   "cell_type": "markdown",
   "id": "74796e10-e097-4f85-99a1-601cc9c7b9f5",
   "metadata": {},
   "source": [
    "__Challenge Questions__"
   ]
  },
  {
   "cell_type": "markdown",
   "id": "2af9ff18-c9c3-4443-bd18-3c890299002f",
   "metadata": {},
   "source": [
    "1) Create two string variables in the cell below, set one as your name, and the other as \"Hello World\""
   ]
  },
  {
   "cell_type": "code",
   "execution_count": 5,
   "id": "0361cd31-8a45-4b91-b82b-c4c5e52efb0d",
   "metadata": {},
   "outputs": [],
   "source": [
    "# answer"
   ]
  },
  {
   "cell_type": "markdown",
   "id": "92fe95b8-9dc9-4d90-9cf1-f7bc6c913fbb",
   "metadata": {},
   "source": [
    "2. Using the variables you just created, print the statement \"Hello World, my name is (your name)\""
   ]
  },
  {
   "cell_type": "code",
   "execution_count": 6,
   "id": "674448d8-ceed-4a86-9255-a344d4b733f0",
   "metadata": {},
   "outputs": [],
   "source": [
    "# answer"
   ]
  },
  {
   "cell_type": "markdown",
   "id": "733da5d8-bb61-40b4-b88c-11e16b1fec2f",
   "metadata": {},
   "source": [
    "3. Print the numbers 1-10 using a __for__ loop"
   ]
  },
  {
   "cell_type": "code",
   "execution_count": 7,
   "id": "7d48a414-32b4-42b6-bc3c-8d4f27ab098c",
   "metadata": {},
   "outputs": [],
   "source": [
    "# answer"
   ]
  },
  {
   "cell_type": "markdown",
   "id": "e1b859d0-9a45-4d2c-970d-ee04ddbe84d2",
   "metadata": {},
   "source": [
    "4. Now try the same thing using a __while__ loop"
   ]
  },
  {
   "cell_type": "code",
   "execution_count": 23,
   "id": "f474696c-7792-4c70-9aa5-e02573850d19",
   "metadata": {},
   "outputs": [],
   "source": [
    "# answer"
   ]
  },
  {
   "cell_type": "markdown",
   "id": "76d6de1b-822a-4937-843f-6de6a84f4d74",
   "metadata": {},
   "source": [
    "5. Given two integers, complete the program so that it will return their product only if the product is equal to or lower than 1000, else return their sum."
   ]
  },
  {
   "cell_type": "code",
   "execution_count": 3,
   "id": "77929323-773f-4751-8cae-a391b73089ee",
   "metadata": {},
   "outputs": [],
   "source": [
    "num1 = 20\n",
    "num2 = 30 \n",
    "\n",
    "def multiply_or_sum(num1, num2):\n",
    "    \n",
    "    # add logic here\n",
    "    \n",
    "    return num1 + num2\n"
   ]
  },
  {
   "cell_type": "markdown",
   "id": "7d15a319-b230-42ce-9d60-73c1c0cb1f3c",
   "metadata": {},
   "source": [
    "6. Write a program that iterates 1-10, and for each iteration, prints the sum of the __current__ and __previous__ number"
   ]
  },
  {
   "cell_type": "code",
   "execution_count": 4,
   "id": "d66230b9-110e-4e22-83e2-539347df88ad",
   "metadata": {},
   "outputs": [],
   "source": [
    "# use the following variable to start your loop (remember, for i in range())\n",
    "\n",
    "previous_num = 0"
   ]
  },
  {
   "cell_type": "markdown",
   "id": "90e368fc-0ad9-478e-8c10-bc35b4e68faf",
   "metadata": {},
   "source": [
    "7. Write a program that accepts a word from a user and displays a new string consisting ONLY of the characters in __even__ indexes of the original string"
   ]
  },
  {
   "cell_type": "code",
   "execution_count": 9,
   "id": "ca362cc4-bf05-4f23-83ab-54c4555f281b",
   "metadata": {},
   "outputs": [
    {
     "name": "stdin",
     "output_type": "stream",
     "text": [
      "Enter word:  Hello\n"
     ]
    }
   ],
   "source": [
    "word = input('Enter word: ')"
   ]
  },
  {
   "cell_type": "markdown",
   "id": "f0a2ea68-28cb-4e1d-801a-3587b04a0927",
   "metadata": {},
   "source": [
    "8. Create a function that removes the first __n__ characters from a string"
   ]
  },
  {
   "cell_type": "code",
   "execution_count": 10,
   "id": "71e8807c-6f35-4534-815f-b0774dceaa20",
   "metadata": {},
   "outputs": [],
   "source": [
    "def remove_chars(word, n):\n",
    "    \n",
    "    # write function here\n",
    "    \n",
    "    pass"
   ]
  },
  {
   "cell_type": "markdown",
   "id": "2a2480fd-adce-4b15-ab5c-7f5b3078fe1f",
   "metadata": {},
   "source": [
    "9. Given a list of integers, iterate and print only the numbers that are divisible by 5"
   ]
  },
  {
   "cell_type": "code",
   "execution_count": 12,
   "id": "2781db74-2cb0-4390-981f-f950902a706e",
   "metadata": {},
   "outputs": [],
   "source": [
    "lst = [10, 20, 33, 46, 55]\n",
    "\n",
    "# answer in this cell"
   ]
  },
  {
   "cell_type": "markdown",
   "id": "f5c78a15-9ad4-406b-a36f-1e7cefcf1238",
   "metadata": {},
   "source": [
    "10. Given 2 lists of integers, __lst1__ and __lst2__ write a program that creates a new list that contains only odd numbers from __lst1__, and even numbers from __lst2__"
   ]
  },
  {
   "cell_type": "code",
   "execution_count": 14,
   "id": "4ac609fc-2565-4db2-81be-4f287cbec362",
   "metadata": {},
   "outputs": [],
   "source": [
    "lst1 = [10, 20, 25, 30, 35]\n",
    "lst2 = [40, 45, 60, 75, 90]\n",
    "\n",
    "def merge_lst(lst1, lst2):\n",
    "    \n",
    "    # finish program here\n",
    "    \n",
    "    pass"
   ]
  },
  {
   "cell_type": "markdown",
   "id": "c174a26b-133d-442e-b2ae-6ed2af05dca9",
   "metadata": {},
   "source": [
    "11. Create a function within a function that executes the following way:\n",
    "- Outer function accepts two parameters, __a__ and __b__\n",
    "- Inner function that calculates __a__ + __b__\n",
    "- outer function will add 5 to the result of the inner function"
   ]
  },
  {
   "cell_type": "code",
   "execution_count": 15,
   "id": "777bde30-8216-4ff6-ad7a-d55c2e579341",
   "metadata": {},
   "outputs": [],
   "source": [
    " # answer here"
   ]
  },
  {
   "cell_type": "markdown",
   "id": "e83728c8-b588-44c7-87dd-9b15f580f154",
   "metadata": {},
   "source": [
    "12. Convert two lists into a dictionary"
   ]
  },
  {
   "cell_type": "code",
   "execution_count": 16,
   "id": "ab4f2e39-b303-4aa9-a40f-1eedf0166fd8",
   "metadata": {},
   "outputs": [],
   "source": [
    "keys = ['ten', 'twenty', 'thrity']\n",
    "values = [10, 20, 30]\n",
    "# expected output: {'Ten': 10, 'Twenty': 20, 'Thirty': 30}"
   ]
  },
  {
   "cell_type": "markdown",
   "id": "7ef65a56-eb53-4210-a564-cd30d1d387f5",
   "metadata": {},
   "source": [
    "13. Merge two dictionaries into one"
   ]
  },
  {
   "cell_type": "code",
   "execution_count": 17,
   "id": "e63ddbea-56ce-47fe-9fc4-57000191e61e",
   "metadata": {},
   "outputs": [],
   "source": [
    "dict1 = {'Ten': 10, 'Twenty': 20, 'Thirty': 30}\n",
    "dict2 = {'Thirty': 30, 'Fourty': 40, 'Fifty': 50}\n",
    "# expected output: {'Ten': 10, 'Twenty': 20, 'Thirty': 30, 'Fourty': 40, 'Fifty': 50}"
   ]
  },
  {
   "cell_type": "markdown",
   "id": "6de3ae00-c542-4c0a-ad66-d243d4406d54",
   "metadata": {},
   "source": [
    "14. Given the complex dictionary, print out the value of the \"history\" key"
   ]
  },
  {
   "cell_type": "code",
   "execution_count": 18,
   "id": "ba2cc207-3572-4719-ab2b-56cbc0bec6e2",
   "metadata": {},
   "outputs": [],
   "source": [
    "sampleDict = {\n",
    "    \"class\": {\n",
    "        \"student\": {\n",
    "            \"name\": \"Joe\",\n",
    "            \"marks\": {\n",
    "                \"physics\": 70,\n",
    "                \"history\": 80\n",
    "            }\n",
    "        }\n",
    "    }\n",
    "}"
   ]
  },
  {
   "cell_type": "code",
   "execution_count": 19,
   "id": "5b8b08bd-346b-4fd3-aa71-cb391486dc9f",
   "metadata": {},
   "outputs": [],
   "source": [
    "# answer here"
   ]
  },
  {
   "cell_type": "markdown",
   "id": "6bf70728-beeb-4a27-878c-2a5524704b27",
   "metadata": {},
   "source": [
    "15. Delete the designated keys in __keys__ from the dictionary __sample_dict__"
   ]
  },
  {
   "cell_type": "code",
   "execution_count": 22,
   "id": "432d9529-b793-402f-93db-fe5e8ba47dca",
   "metadata": {},
   "outputs": [],
   "source": [
    "sample_dict = {\n",
    "    \"name\": \"Kelly\",\n",
    "    \"age\": 25,\n",
    "    \"salary\": 80000,\n",
    "    \"city\": \"New york\"\n",
    "}\n",
    "\n",
    "# Keys to remove\n",
    "keys = [\"name\", \"salary\"]"
   ]
  },
  {
   "cell_type": "code",
   "execution_count": 21,
   "id": "0aac98e4-f1d3-4ff6-b0f0-fe7a4bc804fc",
   "metadata": {},
   "outputs": [],
   "source": [
    "# answer here"
   ]
  },
  {
   "cell_type": "markdown",
   "id": "6be58dc6-fc66-40c4-81a5-3ed1afacbb3f",
   "metadata": {},
   "source": [
    "16. Using List Comprehension, remove all odd numbers from the given list"
   ]
  },
  {
   "cell_type": "code",
   "execution_count": 24,
   "id": "82f00902-0237-4a57-b800-c768ce8c7bfc",
   "metadata": {},
   "outputs": [],
   "source": [
    "numbers = [3,5,45,97,32,22,10,19,39,43]"
   ]
  },
  {
   "cell_type": "code",
   "execution_count": 25,
   "id": "62ab76c2-4a20-4275-851c-1bcfe645fab6",
   "metadata": {},
   "outputs": [],
   "source": [
    "# answer here"
   ]
  },
  {
   "cell_type": "markdown",
   "id": "a88b058a-b2bd-4c2a-9f6e-8e7fa536c372",
   "metadata": {},
   "source": [
    "17. Join lst1 and lst2 so only unique string or integer values remain in a new list, lst3.(i.e., ['1', '2', 3, '3', 4, 5, 6])"
   ]
  },
  {
   "cell_type": "code",
   "execution_count": 26,
   "id": "f9bb2d6a-96f6-4caa-af17-834f0405eb9f",
   "metadata": {},
   "outputs": [],
   "source": [
    "lst1 = ['1', '2', [3]]\n",
    "lst2 = [('3', 4), '5', 6]"
   ]
  },
  {
   "cell_type": "code",
   "execution_count": 27,
   "id": "db571644-83ce-45b6-a32a-5b294852a53e",
   "metadata": {},
   "outputs": [],
   "source": [
    "# answer here"
   ]
  },
  {
   "cell_type": "markdown",
   "id": "68fa1595-571e-4d5a-a100-d6a377b71fff",
   "metadata": {},
   "source": [
    "18. Create an empty dictionary called odds_evens. Next, iterate through lst3. If a number (regardless of datatype) is even, add the value to a list that will be stored as a value for the key even in the dictionary, odds_evens. Do the same for the odds numbers. When you print the odds_evens dictionary the output should look like this: {'evens': ['2', 4, 6], 'odds': ['1', '3', 3, '5']}"
   ]
  },
  {
   "cell_type": "code",
   "execution_count": 28,
   "id": "0b9b3865-7412-48ee-a4aa-9bb0206183b0",
   "metadata": {},
   "outputs": [],
   "source": [
    "# answer here"
   ]
  },
  {
   "cell_type": "markdown",
   "id": "7ac70004-2778-45ec-90c6-663e1391e9f2",
   "metadata": {},
   "source": [
    "19. Next, loop through lst3 and evaluate each item using a list comprehension. if it's not an integer, convert it to an integer. The resulting list should be called, __numbers__."
   ]
  },
  {
   "cell_type": "code",
   "execution_count": 29,
   "id": "222df327-878f-448e-abff-55af2829d7e7",
   "metadata": {},
   "outputs": [],
   "source": [
    "# answer"
   ]
  },
  {
   "cell_type": "markdown",
   "id": "9853914e-092b-40a2-abb7-39c8074bb8de",
   "metadata": {},
   "source": [
    "20. Then, iterate through the values in the odds_evens dictionary. For each number, if it's a string, convert it to an int, otherwise ignore."
   ]
  },
  {
   "cell_type": "code",
   "execution_count": 30,
   "id": "40a529a4-1a1f-4293-9bfb-a6f914c61f15",
   "metadata": {},
   "outputs": [],
   "source": [
    "# answer"
   ]
  },
  {
   "cell_type": "markdown",
   "id": "e142fa3f-c4b3-4cbf-807f-9d169fe416d0",
   "metadata": {},
   "source": [
    "21. Now, using dictionary comprehension, take each value for each key in odds_evens and for each item in those lists (i.e., the values) add it to the max number in the numbers list and append the numbers list with that value."
   ]
  },
  {
   "cell_type": "code",
   "execution_count": 31,
   "id": "a4e6431b-1165-4d10-afa4-4fd5a2d13a6b",
   "metadata": {},
   "outputs": [],
   "source": [
    "# answer"
   ]
  }
 ],
 "metadata": {
  "kernelspec": {
   "display_name": "python-for-de",
   "language": "python",
   "name": "python-for-de"
  },
  "language_info": {
   "codemirror_mode": {
    "name": "ipython",
    "version": 3
   },
   "file_extension": ".py",
   "mimetype": "text/x-python",
   "name": "python",
   "nbconvert_exporter": "python",
   "pygments_lexer": "ipython3",
   "version": "3.8.16"
  }
 },
 "nbformat": 4,
 "nbformat_minor": 5
}
